{
  "cells": [
    {
      "attachments": {},
      "cell_type": "markdown",
      "metadata": {
        "id": "k5y1ANR33NY6"
      },
      "source": [
        "Chapter01 인공지능/딥러닝/텐서플로 설치\n",
        "\n",
        "01 인공지능과 딥러닝\n",
        "\n",
        "02 텐서플로 설치"
      ]
    },
    {
      "attachments": {},
      "cell_type": "markdown",
      "metadata": {
        "id": "OQR3LPuS73Ly"
      },
      "source": [
        "## Deep Learning"
      ]
    },
    {
      "attachments": {},
      "cell_type": "markdown",
      "metadata": {
        "id": "CR6BRHU-7mhx"
      },
      "source": [
        "\n",
        "> Deep learning is part of a broader family of machine learning methods, which is based on artificial neural networks with representation learning. Learning can be supervised, semi-supervised or unsupervised. https://en.wikipedia.org/wiki/Deep_learning\n",
        "\n",
        "<img src=\"https://upload.wikimedia.org/wikipedia/commons/thumb/b/bb/AI-ML-DL.svg/800px-AI-ML-DL.svg.png\" width=400>"
      ]
    },
    {
      "attachments": {},
      "cell_type": "markdown",
      "metadata": {
        "id": "4yRmyJD57tBA"
      },
      "source": [
        "## AI History"
      ]
    },
    {
      "attachments": {},
      "cell_type": "markdown",
      "metadata": {
        "id": "F8atrrB0BEAu"
      },
      "source": [
        "http://beamlab.org/images/deep_learning_101/nn_timeline.jpg"
      ]
    },
    {
      "attachments": {},
      "cell_type": "markdown",
      "metadata": {
        "id": "fgn1bQyV7wxI"
      },
      "source": [
        "## DL Tasks & Models"
      ]
    },
    {
      "attachments": {},
      "cell_type": "markdown",
      "metadata": {
        "id": "LZZQBkLxIcSf"
      },
      "source": [
        "| Application      | Model | Tensorflow Tutorial | Project |\n",
        "| ----------- | ----------- | ----------- | ------------ |\n",
        "| Image Classification| Alexnet, VGG, Resnet50, ViT | https://www.tensorflow.org/tutorials/keras/classification <br> https://keras.io/api/applications/| 병 분류 |\n",
        "| Image Generation      | GAN, DCGAN, Stable Diffusion <a href=\"https://www.midjourney.com\"> Midjourney </a>| https://www.tensorflow.org/tutorials/generative/dcgan  <br> https://www.tensorflow.org/tutorials/generative/generate_images_with_stable_diffusion |\n",
        "| Image Segmentation   | <a href=\"https://segment-anything.com/\" >SAM</a>        | https://www.tensorflow.org/tutorials/images/segmentation |\n",
        "| Object Detection   | <a href=\"https://github.com/ultralytics/ultralytics\"> YOLOv8 </a>       | https://www.tensorflow.org/hub/tutorials/tf2_object_detection |  병 검출 |\n",
        "| Text Classification   | <a href=\"https://github.com/google-research/bert\"> BERT </a>,  <a href=\"https://github.com/snunlp/KR-BERT\"> KR_BERT </a>     | https://www.tensorflow.org/text/tutorials/classify_text_with_bert <br> https://keras.io/api/keras_nlp/models/ |  카테고리 분류, 뉴스분석 |\n",
        "| Text Generation   | <a href=\"https://openai.com/blog/chatgpt\">ChatGPT</a>, GPT4, <a href=\"https://bard.google.com\">BARD</a>, BING  | https://keras.io/examples/generative/text_generation_with_miniature_gpt/ | 코드 생성 |\n",
        "| Structured Data   |   <a href=\"https://github.com/jsyoon0823/VIME\" >VIME</a>      | https://www.tensorflow.org/tutorials/structured_data/preprocessing_layers | 카테고리 분류, 리드타임 |\n",
        "| Timeseries   |     ECG    | https://www.tensorflow.org/tutorials/generative/autoencoder | 위험운전 (비지도)\n",
        "| Timeseries   | <a href=\"https://github.com/thuml/Autoformer\">Autoformer</a>  | https://www.tensorflow.org/tutorials/structured_data/preprocessing_layers <br> https://www.tensorflow.org/tutorials/structured_data/time_series | AIS (위,경도), 대기시간, 행동인식, 코인가격 |"
      ]
    },
    {
      "attachments": {},
      "cell_type": "markdown",
      "metadata": {
        "id": "tqsxJu4567Xw"
      },
      "source": [
        "## Google Trend (June, 2023)\n",
        "\n",
        "<img src=\"https://drive.google.com/uc?id=1GOEpTRnXlqpaySxndNmtUAwFGGrSVyrr\" width=\"400\"/>\n",
        "\n",
        "<img src=\"https://drive.google.com/uc?id=12X6e-PosJk5qjVIAAMzHXcIG8EDhstOF\" width=\"400\"/>\n",
        "\n",
        "\n",
        "\n"
      ]
    },
    {
      "attachments": {},
      "cell_type": "markdown",
      "metadata": {
        "id": "TcpDJ_Ep510t"
      },
      "source": [
        "## Online References (필요한 부분 참고)\n",
        "\n",
        "https://wikidocs.net/book/8878\n",
        "\n",
        "https://wikidocs.net/book/2155\n",
        "\n",
        "\n",
        "\n",
        "\n",
        "\n"
      ]
    },
    {
      "attachments": {},
      "cell_type": "markdown",
      "metadata": {
        "id": "X7kuV2Mq1wAz"
      },
      "source": [
        "# Install TensorFlow 2"
      ]
    },
    {
      "attachments": {},
      "cell_type": "markdown",
      "metadata": {
        "id": "5KXO-0-d1z4z"
      },
      "source": [
        "https://www.tensorflow.org/install"
      ]
    },
    {
      "cell_type": "code",
      "execution_count": 1,
      "metadata": {
        "colab": {
          "base_uri": "https://localhost:8080/"
        },
        "id": "P2_IuzeLkYa_",
        "outputId": "0a792291-7798-44cf-9ad9-f47d53ec359d"
      },
      "outputs": [
        {
          "name": "stderr",
          "output_type": "stream",
          "text": [
            "  File \"<string>\", line 1\n",
            "    'import\n",
            "           ^\n",
            "SyntaxError: EOL while scanning string literal\n"
          ]
        }
      ],
      "source": [
        "!python -c 'import tensorflow as tf; print(tf.__version__)'"
      ]
    },
    {
      "cell_type": "code",
      "execution_count": 2,
      "metadata": {
        "id": "m04fdXVB1rB1"
      },
      "outputs": [],
      "source": [
        "import tensorflow as tf"
      ]
    },
    {
      "cell_type": "code",
      "execution_count": 3,
      "metadata": {
        "colab": {
          "base_uri": "https://localhost:8080/"
        },
        "id": "0e51gQ_LX0Sc",
        "outputId": "faef4485-1bb4-480b-8fff-dcf51d721892"
      },
      "outputs": [
        {
          "data": {
            "text/plain": [
              "[]"
            ]
          },
          "execution_count": 3,
          "metadata": {},
          "output_type": "execute_result"
        }
      ],
      "source": [
        "tf.config.list_physical_devices('GPU')"
      ]
    },
    {
      "attachments": {},
      "cell_type": "markdown",
      "metadata": {
        "id": "jpchL8KOnSQ6"
      },
      "source": [
        "## TensorFlow with GPU access is supported for WSL2 on Windows 10 19044 or higher."
      ]
    },
    {
      "attachments": {},
      "cell_type": "markdown",
      "metadata": {
        "id": "IV1gz0amnDpx"
      },
      "source": [
        "https://www.tensorflow.org/install/pip#windows-wsl2"
      ]
    },
    {
      "attachments": {},
      "cell_type": "markdown",
      "metadata": {
        "id": "i1AWpNUPlyTS"
      },
      "source": [
        "## Local Runtime on Colab"
      ]
    },
    {
      "attachments": {},
      "cell_type": "markdown",
      "metadata": {
        "id": "-YXU2l8ulyoB"
      },
      "source": [
        "https://research.google.com/colaboratory/local-runtimes.html"
      ]
    },
    {
      "attachments": {},
      "cell_type": "markdown",
      "metadata": {
        "id": "ZCZIIQ6VmCaz"
      },
      "source": [
        "Install Jupyter on your local machine."
      ]
    },
    {
      "cell_type": "code",
      "execution_count": 4,
      "metadata": {
        "id": "v3X6vZXlmUlN"
      },
      "outputs": [
        {
          "name": "stdout",
          "output_type": "stream",
          "text": [
            "Requirement already satisfied: jupyterlab in c:\\users\\nonel\\anaconda3\\lib\\site-packages (3.4.4)\n",
            "Requirement already satisfied: ipython in c:\\users\\nonel\\anaconda3\\lib\\site-packages (from jupyterlab) (7.31.1)\n",
            "Requirement already satisfied: tornado>=6.1.0 in c:\\users\\nonel\\anaconda3\\lib\\site-packages (from jupyterlab) (6.1)\n",
            "Requirement already satisfied: jupyter-core in c:\\users\\nonel\\anaconda3\\lib\\site-packages (from jupyterlab) (4.11.1)\n",
            "Requirement already satisfied: packaging in c:\\users\\nonel\\anaconda3\\lib\\site-packages (from jupyterlab) (21.3)\n",
            "Requirement already satisfied: nbclassic in c:\\users\\nonel\\anaconda3\\lib\\site-packages (from jupyterlab) (0.3.5)\n",
            "Requirement already satisfied: jinja2>=2.1 in c:\\users\\nonel\\anaconda3\\lib\\site-packages (from jupyterlab) (2.11.3)\n",
            "Requirement already satisfied: jupyterlab-server~=2.10 in c:\\users\\nonel\\anaconda3\\lib\\site-packages (from jupyterlab) (2.10.3)\n",
            "Requirement already satisfied: jupyter-server~=1.16 in c:\\users\\nonel\\anaconda3\\lib\\site-packages (from jupyterlab) (1.18.1)\n",
            "Requirement already satisfied: notebook<7 in c:\\users\\nonel\\anaconda3\\lib\\site-packages (from jupyterlab) (6.4.12)\n",
            "Requirement already satisfied: MarkupSafe>=0.23 in c:\\users\\nonel\\anaconda3\\lib\\site-packages (from jinja2>=2.1->jupyterlab) (2.0.1)\n",
            "Requirement already satisfied: nbconvert>=6.4.4 in c:\\users\\nonel\\anaconda3\\lib\\site-packages (from jupyter-server~=1.16->jupyterlab) (6.4.4)\n",
            "Requirement already satisfied: prometheus-client in c:\\users\\nonel\\anaconda3\\lib\\site-packages (from jupyter-server~=1.16->jupyterlab) (0.14.1)\n",
            "Requirement already satisfied: pyzmq>=17 in c:\\users\\nonel\\anaconda3\\lib\\site-packages (from jupyter-server~=1.16->jupyterlab) (23.2.0)\n",
            "Requirement already satisfied: traitlets>=5.1 in c:\\users\\nonel\\anaconda3\\lib\\site-packages (from jupyter-server~=1.16->jupyterlab) (5.1.1)\n",
            "Requirement already satisfied: argon2-cffi in c:\\users\\nonel\\anaconda3\\lib\\site-packages (from jupyter-server~=1.16->jupyterlab) (21.3.0)\n",
            "Requirement already satisfied: jupyter-client>=6.1.12 in c:\\users\\nonel\\anaconda3\\lib\\site-packages (from jupyter-server~=1.16->jupyterlab) (7.3.4)\n",
            "Requirement already satisfied: anyio<4,>=3.1.0 in c:\\users\\nonel\\anaconda3\\lib\\site-packages (from jupyter-server~=1.16->jupyterlab) (3.5.0)\n",
            "Requirement already satisfied: pywinpty in c:\\users\\nonel\\anaconda3\\lib\\site-packages (from jupyter-server~=1.16->jupyterlab) (2.0.2)\n",
            "Requirement already satisfied: terminado>=0.8.3 in c:\\users\\nonel\\anaconda3\\lib\\site-packages (from jupyter-server~=1.16->jupyterlab) (0.13.1)\n",
            "Requirement already satisfied: Send2Trash in c:\\users\\nonel\\anaconda3\\lib\\site-packages (from jupyter-server~=1.16->jupyterlab) (1.8.0)\n",
            "Requirement already satisfied: nbformat>=5.2.0 in c:\\users\\nonel\\anaconda3\\lib\\site-packages (from jupyter-server~=1.16->jupyterlab) (5.5.0)\n",
            "Requirement already satisfied: websocket-client in c:\\users\\nonel\\anaconda3\\lib\\site-packages (from jupyter-server~=1.16->jupyterlab) (0.58.0)\n",
            "Requirement already satisfied: pywin32>=1.0 in c:\\users\\nonel\\anaconda3\\lib\\site-packages (from jupyter-core->jupyterlab) (302)\n",
            "Requirement already satisfied: entrypoints>=0.2.2 in c:\\users\\nonel\\anaconda3\\lib\\site-packages (from jupyterlab-server~=2.10->jupyterlab) (0.4)\n",
            "Requirement already satisfied: requests in c:\\users\\nonel\\anaconda3\\lib\\site-packages (from jupyterlab-server~=2.10->jupyterlab) (2.31.0)\n",
            "Requirement already satisfied: babel in c:\\users\\nonel\\anaconda3\\lib\\site-packages (from jupyterlab-server~=2.10->jupyterlab) (2.9.1)\n",
            "Requirement already satisfied: json5 in c:\\users\\nonel\\anaconda3\\lib\\site-packages (from jupyterlab-server~=2.10->jupyterlab) (0.9.6)\n",
            "Requirement already satisfied: jsonschema>=3.0.1 in c:\\users\\nonel\\anaconda3\\lib\\site-packages (from jupyterlab-server~=2.10->jupyterlab) (4.16.0)\n",
            "Requirement already satisfied: ipython-genutils in c:\\users\\nonel\\anaconda3\\lib\\site-packages (from notebook<7->jupyterlab) (0.2.0)\n",
            "Requirement already satisfied: ipykernel in c:\\users\\nonel\\anaconda3\\lib\\site-packages (from notebook<7->jupyterlab) (6.15.2)\n",
            "Requirement already satisfied: nest-asyncio>=1.5 in c:\\users\\nonel\\anaconda3\\lib\\site-packages (from notebook<7->jupyterlab) (1.5.5)\n",
            "Requirement already satisfied: decorator in c:\\users\\nonel\\anaconda3\\lib\\site-packages (from ipython->jupyterlab) (5.1.1)\n",
            "Requirement already satisfied: matplotlib-inline in c:\\users\\nonel\\anaconda3\\lib\\site-packages (from ipython->jupyterlab) (0.1.6)\n",
            "Requirement already satisfied: pickleshare in c:\\users\\nonel\\anaconda3\\lib\\site-packages (from ipython->jupyterlab) (0.7.5)\n",
            "Requirement already satisfied: pygments in c:\\users\\nonel\\anaconda3\\lib\\site-packages (from ipython->jupyterlab) (2.11.2)\n",
            "Requirement already satisfied: prompt-toolkit!=3.0.0,!=3.0.1,<3.1.0,>=2.0.0 in c:\\users\\nonel\\anaconda3\\lib\\site-packages (from ipython->jupyterlab) (3.0.20)\n",
            "Requirement already satisfied: setuptools>=18.5 in c:\\users\\nonel\\anaconda3\\lib\\site-packages (from ipython->jupyterlab) (63.4.1)\n",
            "Requirement already satisfied: colorama in c:\\users\\nonel\\anaconda3\\lib\\site-packages (from ipython->jupyterlab) (0.4.5)\n",
            "Requirement already satisfied: jedi>=0.16 in c:\\users\\nonel\\anaconda3\\lib\\site-packages (from ipython->jupyterlab) (0.18.1)\n",
            "Requirement already satisfied: backcall in c:\\users\\nonel\\anaconda3\\lib\\site-packages (from ipython->jupyterlab) (0.2.0)\n",
            "Requirement already satisfied: pyparsing!=3.0.5,>=2.0.2 in c:\\users\\nonel\\anaconda3\\lib\\site-packages (from packaging->jupyterlab) (3.0.9)\n",
            "Requirement already satisfied: idna>=2.8 in c:\\users\\nonel\\anaconda3\\lib\\site-packages (from anyio<4,>=3.1.0->jupyter-server~=1.16->jupyterlab) (3.4)\n",
            "Requirement already satisfied: sniffio>=1.1 in c:\\users\\nonel\\anaconda3\\lib\\site-packages (from anyio<4,>=3.1.0->jupyter-server~=1.16->jupyterlab) (1.2.0)\n",
            "Requirement already satisfied: parso<0.9.0,>=0.8.0 in c:\\users\\nonel\\anaconda3\\lib\\site-packages (from jedi>=0.16->ipython->jupyterlab) (0.8.3)\n",
            "Requirement already satisfied: pyrsistent!=0.17.0,!=0.17.1,!=0.17.2,>=0.14.0 in c:\\users\\nonel\\anaconda3\\lib\\site-packages (from jsonschema>=3.0.1->jupyterlab-server~=2.10->jupyterlab) (0.18.0)\n",
            "Requirement already satisfied: attrs>=17.4.0 in c:\\users\\nonel\\anaconda3\\lib\\site-packages (from jsonschema>=3.0.1->jupyterlab-server~=2.10->jupyterlab) (21.4.0)\n",
            "Requirement already satisfied: python-dateutil>=2.8.2 in c:\\users\\nonel\\anaconda3\\lib\\site-packages (from jupyter-client>=6.1.12->jupyter-server~=1.16->jupyterlab) (2.8.2)\n",
            "Requirement already satisfied: bleach in c:\\users\\nonel\\anaconda3\\lib\\site-packages (from nbconvert>=6.4.4->jupyter-server~=1.16->jupyterlab) (4.1.0)\n",
            "Requirement already satisfied: jupyterlab-pygments in c:\\users\\nonel\\anaconda3\\lib\\site-packages (from nbconvert>=6.4.4->jupyter-server~=1.16->jupyterlab) (0.1.2)\n",
            "Requirement already satisfied: defusedxml in c:\\users\\nonel\\anaconda3\\lib\\site-packages (from nbconvert>=6.4.4->jupyter-server~=1.16->jupyterlab) (0.7.1)\n",
            "Requirement already satisfied: mistune<2,>=0.8.1 in c:\\users\\nonel\\anaconda3\\lib\\site-packages (from nbconvert>=6.4.4->jupyter-server~=1.16->jupyterlab) (0.8.4)\n",
            "Requirement already satisfied: beautifulsoup4 in c:\\users\\nonel\\anaconda3\\lib\\site-packages (from nbconvert>=6.4.4->jupyter-server~=1.16->jupyterlab) (4.11.1)\n",
            "Requirement already satisfied: nbclient<0.6.0,>=0.5.0 in c:\\users\\nonel\\anaconda3\\lib\\site-packages (from nbconvert>=6.4.4->jupyter-server~=1.16->jupyterlab) (0.5.13)\n",
            "Requirement already satisfied: pandocfilters>=1.4.1 in c:\\users\\nonel\\anaconda3\\lib\\site-packages (from nbconvert>=6.4.4->jupyter-server~=1.16->jupyterlab) (1.5.0)\n",
            "Requirement already satisfied: testpath in c:\\users\\nonel\\anaconda3\\lib\\site-packages (from nbconvert>=6.4.4->jupyter-server~=1.16->jupyterlab) (0.6.0)\n",
            "Requirement already satisfied: fastjsonschema in c:\\users\\nonel\\anaconda3\\lib\\site-packages (from nbformat>=5.2.0->jupyter-server~=1.16->jupyterlab) (2.16.2)\n",
            "Requirement already satisfied: wcwidth in c:\\users\\nonel\\anaconda3\\lib\\site-packages (from prompt-toolkit!=3.0.0,!=3.0.1,<3.1.0,>=2.0.0->ipython->jupyterlab) (0.2.5)\n",
            "Requirement already satisfied: argon2-cffi-bindings in c:\\users\\nonel\\anaconda3\\lib\\site-packages (from argon2-cffi->jupyter-server~=1.16->jupyterlab) (21.2.0)\n",
            "Requirement already satisfied: pytz>=2015.7 in c:\\users\\nonel\\anaconda3\\lib\\site-packages (from babel->jupyterlab-server~=2.10->jupyterlab) (2022.1)\n",
            "Requirement already satisfied: psutil in c:\\users\\nonel\\anaconda3\\lib\\site-packages (from ipykernel->notebook<7->jupyterlab) (5.9.5)\n",
            "Requirement already satisfied: debugpy>=1.0 in c:\\users\\nonel\\anaconda3\\lib\\site-packages (from ipykernel->notebook<7->jupyterlab) (1.5.1)\n",
            "Requirement already satisfied: charset-normalizer<4,>=2 in c:\\users\\nonel\\anaconda3\\lib\\site-packages (from requests->jupyterlab-server~=2.10->jupyterlab) (2.0.4)\n",
            "Requirement already satisfied: certifi>=2017.4.17 in c:\\users\\nonel\\anaconda3\\lib\\site-packages (from requests->jupyterlab-server~=2.10->jupyterlab) (2022.9.14)\n",
            "Requirement already satisfied: urllib3<3,>=1.21.1 in c:\\users\\nonel\\anaconda3\\lib\\site-packages (from requests->jupyterlab-server~=2.10->jupyterlab) (1.22)\n",
            "Requirement already satisfied: six in c:\\users\\nonel\\anaconda3\\lib\\site-packages (from websocket-client->jupyter-server~=1.16->jupyterlab) (1.16.0)\n",
            "Requirement already satisfied: cffi>=1.0.1 in c:\\users\\nonel\\anaconda3\\lib\\site-packages (from argon2-cffi-bindings->argon2-cffi->jupyter-server~=1.16->jupyterlab) (1.15.1)\n",
            "Requirement already satisfied: soupsieve>1.2 in c:\\users\\nonel\\anaconda3\\lib\\site-packages (from beautifulsoup4->nbconvert>=6.4.4->jupyter-server~=1.16->jupyterlab) (2.3.1)\n",
            "Requirement already satisfied: webencodings in c:\\users\\nonel\\anaconda3\\lib\\site-packages (from bleach->nbconvert>=6.4.4->jupyter-server~=1.16->jupyterlab) (0.5.1)\n",
            "Requirement already satisfied: pycparser in c:\\users\\nonel\\anaconda3\\lib\\site-packages (from cffi>=1.0.1->argon2-cffi-bindings->argon2-cffi->jupyter-server~=1.16->jupyterlab) (2.21)\n",
            "Requirement already satisfied: notebook in c:\\users\\nonel\\anaconda3\\lib\\site-packages (6.4.12)\n",
            "Requirement already satisfied: nest-asyncio>=1.5 in c:\\users\\nonel\\anaconda3\\lib\\site-packages (from notebook) (1.5.5)\n",
            "Requirement already satisfied: Send2Trash>=1.8.0 in c:\\users\\nonel\\anaconda3\\lib\\site-packages (from notebook) (1.8.0)\n",
            "Requirement already satisfied: nbconvert>=5 in c:\\users\\nonel\\anaconda3\\lib\\site-packages (from notebook) (6.4.4)\n",
            "Requirement already satisfied: ipykernel in c:\\users\\nonel\\anaconda3\\lib\\site-packages (from notebook) (6.15.2)\n",
            "Requirement already satisfied: nbformat in c:\\users\\nonel\\anaconda3\\lib\\site-packages (from notebook) (5.5.0)\n",
            "Requirement already satisfied: jupyter-core>=4.6.1 in c:\\users\\nonel\\anaconda3\\lib\\site-packages (from notebook) (4.11.1)\n",
            "Requirement already satisfied: jupyter-client>=5.3.4 in c:\\users\\nonel\\anaconda3\\lib\\site-packages (from notebook) (7.3.4)\n",
            "Requirement already satisfied: traitlets>=4.2.1 in c:\\users\\nonel\\anaconda3\\lib\\site-packages (from notebook) (5.1.1)\n",
            "Requirement already satisfied: tornado>=6.1 in c:\\users\\nonel\\anaconda3\\lib\\site-packages (from notebook) (6.1)\n",
            "Requirement already satisfied: jinja2 in c:\\users\\nonel\\anaconda3\\lib\\site-packages (from notebook) (2.11.3)\n",
            "Requirement already satisfied: ipython-genutils in c:\\users\\nonel\\anaconda3\\lib\\site-packages (from notebook) (0.2.0)\n",
            "Requirement already satisfied: prometheus-client in c:\\users\\nonel\\anaconda3\\lib\\site-packages (from notebook) (0.14.1)\n",
            "Requirement already satisfied: terminado>=0.8.3 in c:\\users\\nonel\\anaconda3\\lib\\site-packages (from notebook) (0.13.1)\n",
            "Requirement already satisfied: pyzmq>=17 in c:\\users\\nonel\\anaconda3\\lib\\site-packages (from notebook) (23.2.0)\n",
            "Requirement already satisfied: argon2-cffi in c:\\users\\nonel\\anaconda3\\lib\\site-packages (from notebook) (21.3.0)\n",
            "Requirement already satisfied: entrypoints in c:\\users\\nonel\\anaconda3\\lib\\site-packages (from jupyter-client>=5.3.4->notebook) (0.4)\n",
            "Requirement already satisfied: python-dateutil>=2.8.2 in c:\\users\\nonel\\anaconda3\\lib\\site-packages (from jupyter-client>=5.3.4->notebook) (2.8.2)\n",
            "Requirement already satisfied: pywin32>=1.0 in c:\\users\\nonel\\anaconda3\\lib\\site-packages (from jupyter-core>=4.6.1->notebook) (302)\n",
            "Requirement already satisfied: testpath in c:\\users\\nonel\\anaconda3\\lib\\site-packages (from nbconvert>=5->notebook) (0.6.0)\n",
            "Requirement already satisfied: pandocfilters>=1.4.1 in c:\\users\\nonel\\anaconda3\\lib\\site-packages (from nbconvert>=5->notebook) (1.5.0)\n",
            "Requirement already satisfied: defusedxml in c:\\users\\nonel\\anaconda3\\lib\\site-packages (from nbconvert>=5->notebook) (0.7.1)\n",
            "Requirement already satisfied: pygments>=2.4.1 in c:\\users\\nonel\\anaconda3\\lib\\site-packages (from nbconvert>=5->notebook) (2.11.2)\n",
            "Requirement already satisfied: mistune<2,>=0.8.1 in c:\\users\\nonel\\anaconda3\\lib\\site-packages (from nbconvert>=5->notebook) (0.8.4)\n",
            "Requirement already satisfied: nbclient<0.6.0,>=0.5.0 in c:\\users\\nonel\\anaconda3\\lib\\site-packages (from nbconvert>=5->notebook) (0.5.13)\n",
            "Requirement already satisfied: jupyterlab-pygments in c:\\users\\nonel\\anaconda3\\lib\\site-packages (from nbconvert>=5->notebook) (0.1.2)\n",
            "Requirement already satisfied: beautifulsoup4 in c:\\users\\nonel\\anaconda3\\lib\\site-packages (from nbconvert>=5->notebook) (4.11.1)\n",
            "Requirement already satisfied: bleach in c:\\users\\nonel\\anaconda3\\lib\\site-packages (from nbconvert>=5->notebook) (4.1.0)\n",
            "Requirement already satisfied: MarkupSafe>=0.23 in c:\\users\\nonel\\anaconda3\\lib\\site-packages (from jinja2->notebook) (2.0.1)\n",
            "Requirement already satisfied: jsonschema>=2.6 in c:\\users\\nonel\\anaconda3\\lib\\site-packages (from nbformat->notebook) (4.16.0)\n",
            "Requirement already satisfied: fastjsonschema in c:\\users\\nonel\\anaconda3\\lib\\site-packages (from nbformat->notebook) (2.16.2)\n",
            "Requirement already satisfied: pywinpty>=1.1.0 in c:\\users\\nonel\\anaconda3\\lib\\site-packages (from terminado>=0.8.3->notebook) (2.0.2)\n",
            "Requirement already satisfied: argon2-cffi-bindings in c:\\users\\nonel\\anaconda3\\lib\\site-packages (from argon2-cffi->notebook) (21.2.0)\n",
            "Requirement already satisfied: packaging in c:\\users\\nonel\\anaconda3\\lib\\site-packages (from ipykernel->notebook) (21.3)\n",
            "Requirement already satisfied: psutil in c:\\users\\nonel\\anaconda3\\lib\\site-packages (from ipykernel->notebook) (5.9.5)\n",
            "Requirement already satisfied: debugpy>=1.0 in c:\\users\\nonel\\anaconda3\\lib\\site-packages (from ipykernel->notebook) (1.5.1)\n",
            "Requirement already satisfied: matplotlib-inline>=0.1 in c:\\users\\nonel\\anaconda3\\lib\\site-packages (from ipykernel->notebook) (0.1.6)\n",
            "Requirement already satisfied: ipython>=7.23.1 in c:\\users\\nonel\\anaconda3\\lib\\site-packages (from ipykernel->notebook) (7.31.1)\n",
            "Requirement already satisfied: setuptools>=18.5 in c:\\users\\nonel\\anaconda3\\lib\\site-packages (from ipython>=7.23.1->ipykernel->notebook) (63.4.1)\n",
            "Requirement already satisfied: colorama in c:\\users\\nonel\\anaconda3\\lib\\site-packages (from ipython>=7.23.1->ipykernel->notebook) (0.4.5)\n",
            "Requirement already satisfied: prompt-toolkit!=3.0.0,!=3.0.1,<3.1.0,>=2.0.0 in c:\\users\\nonel\\anaconda3\\lib\\site-packages (from ipython>=7.23.1->ipykernel->notebook) (3.0.20)\n",
            "Requirement already satisfied: jedi>=0.16 in c:\\users\\nonel\\anaconda3\\lib\\site-packages (from ipython>=7.23.1->ipykernel->notebook) (0.18.1)\n",
            "Requirement already satisfied: decorator in c:\\users\\nonel\\anaconda3\\lib\\site-packages (from ipython>=7.23.1->ipykernel->notebook) (5.1.1)\n",
            "Requirement already satisfied: pickleshare in c:\\users\\nonel\\anaconda3\\lib\\site-packages (from ipython>=7.23.1->ipykernel->notebook) (0.7.5)\n",
            "Requirement already satisfied: backcall in c:\\users\\nonel\\anaconda3\\lib\\site-packages (from ipython>=7.23.1->ipykernel->notebook) (0.2.0)\n",
            "Requirement already satisfied: attrs>=17.4.0 in c:\\users\\nonel\\anaconda3\\lib\\site-packages (from jsonschema>=2.6->nbformat->notebook) (21.4.0)\n",
            "Requirement already satisfied: pyrsistent!=0.17.0,!=0.17.1,!=0.17.2,>=0.14.0 in c:\\users\\nonel\\anaconda3\\lib\\site-packages (from jsonschema>=2.6->nbformat->notebook) (0.18.0)\n",
            "Requirement already satisfied: six>=1.5 in c:\\users\\nonel\\anaconda3\\lib\\site-packages (from python-dateutil>=2.8.2->jupyter-client>=5.3.4->notebook) (1.16.0)\n",
            "Requirement already satisfied: cffi>=1.0.1 in c:\\users\\nonel\\anaconda3\\lib\\site-packages (from argon2-cffi-bindings->argon2-cffi->notebook) (1.15.1)\n",
            "Requirement already satisfied: soupsieve>1.2 in c:\\users\\nonel\\anaconda3\\lib\\site-packages (from beautifulsoup4->nbconvert>=5->notebook) (2.3.1)\n",
            "Requirement already satisfied: webencodings in c:\\users\\nonel\\anaconda3\\lib\\site-packages (from bleach->nbconvert>=5->notebook) (0.5.1)\n",
            "Requirement already satisfied: pyparsing!=3.0.5,>=2.0.2 in c:\\users\\nonel\\anaconda3\\lib\\site-packages (from packaging->ipykernel->notebook) (3.0.9)\n",
            "Requirement already satisfied: pycparser in c:\\users\\nonel\\anaconda3\\lib\\site-packages (from cffi>=1.0.1->argon2-cffi-bindings->argon2-cffi->notebook) (2.21)\n",
            "Requirement already satisfied: parso<0.9.0,>=0.8.0 in c:\\users\\nonel\\anaconda3\\lib\\site-packages (from jedi>=0.16->ipython>=7.23.1->ipykernel->notebook) (0.8.3)\n",
            "Requirement already satisfied: wcwidth in c:\\users\\nonel\\anaconda3\\lib\\site-packages (from prompt-toolkit!=3.0.0,!=3.0.1,<3.1.0,>=2.0.0->ipython>=7.23.1->ipykernel->notebook) (0.2.5)\n"
          ]
        }
      ],
      "source": [
        "# http://jupyter.org/install\n",
        "!pip install jupyterlab\n",
        "!pip install notebook"
      ]
    },
    {
      "attachments": {},
      "cell_type": "markdown",
      "metadata": {
        "id": "9ogwl6fKmSlX"
      },
      "source": [
        "New notebook servers are started normally, though you will need to set a flag to explicitly trust WebSocket connections from the Colab frontend."
      ]
    },
    {
      "cell_type": "code",
      "execution_count": 5,
      "metadata": {
        "id": "wqTOgd0kmQt0"
      },
      "outputs": [
        {
          "name": "stdout",
          "output_type": "stream",
          "text": [
            "^C\n"
          ]
        }
      ],
      "source": [
        "!jupyter notebook \\\n",
        "    --NotebookApp.allow_origin='https://colab.research.google.com' \\\n",
        "    --port=8888 \\\n",
        "    --NotebookApp.port_retries=0"
      ]
    },
    {
      "attachments": {},
      "cell_type": "markdown",
      "metadata": {
        "id": "WvXj9VrqmgK1"
      },
      "source": [
        "Once the server has started, it will print a message with the initial backend URL used for authentication. Make a copy of this URL as you'll need to provide this for step 2 below."
      ]
    },
    {
      "cell_type": "code",
      "execution_count": null,
      "metadata": {
        "id": "my8OUWZjmnt3"
      },
      "outputs": [],
      "source": [
        "# In Colab, click the \"Connect\" button and select \"Connect to local runtime...\".\n",
        "# Enter the URL from the previous step in the dialog that appears and click the \"Connect\" button.\n",
        "# After this, you should now be connected to your local runtime."
      ]
    },
    {
      "attachments": {},
      "cell_type": "markdown",
      "metadata": {
        "id": "g6ofNMAQsUhu"
      },
      "source": [
        "## Model Development Workflow"
      ]
    },
    {
      "attachments": {},
      "cell_type": "markdown",
      "metadata": {
        "id": "Ga_ihTuK6y4a"
      },
      "source": [
        "\n",
        "1. Understanding Datasets\n",
        "\n",
        "2. Data Preprocessing\n",
        "\n",
        "3. Exploratory Data Analysis (EDA)\n",
        "\n",
        "4. Building a Baseline Model\n",
        "\n",
        "5. Model Performance Evaluation\n",
        "\n",
        "6. Improving Model Performance\n",
        "\n",
        "\n",
        "* Machine Learning Checklist\n",
        "\n",
        "https://docs.google.com/spreadsheets/d/1kVygnwbR_YUpNFgw-6mZQuPn8ILY2m3vl32BOu7gQsc/edit#gid=39315817\n",
        "\n",
        "* Deep Learning Checklist\n",
        "\n",
        "https://docs.google.com/spreadsheets/d/1kVygnwbR_YUpNFgw-6mZQuPn8ILY2m3vl32BOu7gQsc/edit#gid=1051001003\n",
        "\n",
        "\n",
        "[참고]\n",
        "\n",
        "1. 신백균, 머신러닝/딥러닝 문제해결 전략, 2022"
      ]
    }
  ],
  "metadata": {
    "colab": {
      "provenance": []
    },
    "kernelspec": {
      "display_name": "Python 3",
      "name": "python3"
    },
    "language_info": {
      "codemirror_mode": {
        "name": "ipython",
        "version": 3
      },
      "file_extension": ".py",
      "mimetype": "text/x-python",
      "name": "python",
      "nbconvert_exporter": "python",
      "pygments_lexer": "ipython3",
      "version": "3.9.13"
    }
  },
  "nbformat": 4,
  "nbformat_minor": 0
}
